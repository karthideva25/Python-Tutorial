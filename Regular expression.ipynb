{
 "cells": [
  {
   "cell_type": "markdown",
   "id": "e7991877",
   "metadata": {},
   "source": [
    "## Regular Expression"
   ]
  },
  {
   "cell_type": "markdown",
   "id": "f4fdad04",
   "metadata": {},
   "source": [
    "# https://www.python-engineer.com/posts/regular-expressions/"
   ]
  },
  {
   "cell_type": "code",
   "execution_count": 1,
   "id": "7e16f167",
   "metadata": {},
   "outputs": [],
   "source": [
    "import re"
   ]
  },
  {
   "cell_type": "markdown",
   "id": "88e3fee8",
   "metadata": {},
   "source": [
    "#### difference between raw and normal string"
   ]
  },
  {
   "cell_type": "code",
   "execution_count": 2,
   "id": "c2e22175",
   "metadata": {},
   "outputs": [
    {
     "name": "stdout",
     "output_type": "stream",
     "text": [
      "\tHello\n",
      "\\tHello\n"
     ]
    }
   ],
   "source": [
    "a = \"\\tHello\"\n",
    "b = r\"\\tHello\"\n",
    "print(a)\n",
    "print(b)"
   ]
  },
  {
   "cell_type": "markdown",
   "id": "7d78831d",
   "metadata": {},
   "source": [
    "#### Methods to search for matches"
   ]
  },
  {
   "cell_type": "code",
   "execution_count": 3,
   "id": "499db58e",
   "metadata": {},
   "outputs": [
    {
     "name": "stdout",
     "output_type": "stream",
     "text": [
      "<re.Match object; span=(3, 6), match='abc'>\n",
      "3\n",
      "6\n",
      "(3, 6)\n",
      "abc\n",
      "<re.Match object; span=(12, 15), match='abc'>\n",
      "12\n",
      "15\n",
      "(12, 15)\n",
      "abc\n"
     ]
    }
   ],
   "source": [
    "# finditer() ---> search whole string and return index\n",
    "\n",
    "test_string = '123abc456789abc123ABC'\n",
    "\n",
    "# pattern = re.compile(r'abc')  # Here r means raw string\n",
    "# matches = pattern.finditer(test_string)\n",
    "\n",
    "#or\n",
    "\n",
    "matches = re.finditer(r'abc',test_string)\n",
    "\n",
    "# Methods on match object\n",
    "# start(), end(), span(), group()\n",
    "\n",
    "for match in matches:\n",
    "    print(match)\n",
    "    print(match.start())\n",
    "    print(match.end())\n",
    "    print(match.span())\n",
    "    print(match.group())"
   ]
  },
  {
   "cell_type": "code",
   "execution_count": 4,
   "id": "2a1a5ee0",
   "metadata": {},
   "outputs": [
    {
     "name": "stdout",
     "output_type": "stream",
     "text": [
      "abc\n",
      "abc\n"
     ]
    }
   ],
   "source": [
    "# findall()\n",
    "\n",
    "test_string = '123abc456789abc123ABC'\n",
    "matches = re.findall(r'abc',test_string)\n",
    "\n",
    "for match in matches:\n",
    "    print(match)"
   ]
  },
  {
   "cell_type": "code",
   "execution_count": 5,
   "id": "cdb17222",
   "metadata": {},
   "outputs": [
    {
     "name": "stdout",
     "output_type": "stream",
     "text": [
      "None\n",
      "<re.Match object; span=(0, 3), match='123'>\n"
     ]
    }
   ],
   "source": [
    "# match() --> only look begging of the string\n",
    "\n",
    "test_string = '123abc456789abc123ABC'\n",
    "match = re.match(r'abc',test_string)\n",
    "match1 = re.match(r'123',test_string)\n",
    "\n",
    "print(match)\n",
    "print(match1)"
   ]
  },
  {
   "cell_type": "code",
   "execution_count": 6,
   "id": "38532d28",
   "metadata": {},
   "outputs": [
    {
     "name": "stdout",
     "output_type": "stream",
     "text": [
      "<re.Match object; span=(3, 6), match='abc'>\n"
     ]
    }
   ],
   "source": [
    "# search() ---> search total string\n",
    "\n",
    "test_string = '123abc456789abc123ABC'\n",
    "match = re.search(r'abc',test_string)\n",
    "\n",
    "print(match)"
   ]
  },
  {
   "cell_type": "markdown",
   "id": "5218373f",
   "metadata": {},
   "source": [
    "### Meta character"
   ]
  },
  {
   "cell_type": "code",
   "execution_count": null,
   "id": "e63128fd",
   "metadata": {},
   "outputs": [],
   "source": []
  },
  {
   "cell_type": "code",
   "execution_count": null,
   "id": "1c02a64d",
   "metadata": {},
   "outputs": [],
   "source": []
  },
  {
   "cell_type": "code",
   "execution_count": null,
   "id": "a6bdd6bc",
   "metadata": {},
   "outputs": [],
   "source": []
  }
 ],
 "metadata": {
  "kernelspec": {
   "display_name": "Python 3 (ipykernel)",
   "language": "python",
   "name": "python3"
  },
  "language_info": {
   "codemirror_mode": {
    "name": "ipython",
    "version": 3
   },
   "file_extension": ".py",
   "mimetype": "text/x-python",
   "name": "python",
   "nbconvert_exporter": "python",
   "pygments_lexer": "ipython3",
   "version": "3.9.7"
  }
 },
 "nbformat": 4,
 "nbformat_minor": 5
}
